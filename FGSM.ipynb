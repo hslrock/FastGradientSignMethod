{
 "cells": [
  {
   "cell_type": "markdown",
   "metadata": {},
   "source": [
    "## Importing Library\n"
   ]
  },
  {
   "cell_type": "code",
   "execution_count": null,
   "metadata": {},
   "outputs": [],
   "source": [
    "\n",
    "import torch\n",
    "import torch.nn as nn\n",
    "import torch.nn.functional as F\n",
    "import torch.optim as optim\n",
    "from torchvision import datasets, transforms"
   ]
  },
  {
   "cell_type": "markdown",
   "metadata": {},
   "source": [
    "## DataSet Load"
   ]
  },
  {
   "cell_type": "code",
   "execution_count": 122,
   "metadata": {},
   "outputs": [],
   "source": [
    "batch_size=128\n",
    "test_batch_size=256\n",
    "\n",
    "transform = transforms.Compose([\n",
    "                 transforms.ToTensor(),\n",
    "                 transforms.Normalize((0.1307,), (0.3081,))])\n",
    "\n",
    "train_loader = torch.utils.data.DataLoader(\n",
    "  datasets.MNIST('../data', train=True, download=True, \n",
    "                 transform=transform), \n",
    "    batch_size = batch_size, shuffle=True, )\n",
    "\n",
    "test_loader = torch.utils.data.DataLoader(\n",
    "        datasets.MNIST('../data', train=False, download=True,\n",
    "                 transform=transform), \n",
    "    batch_size=test_batch_size, shuffle=True)"
   ]
  },
  {
   "cell_type": "code",
   "execution_count": 123,
   "metadata": {},
   "outputs": [
    {
     "name": "stderr",
     "output_type": "stream",
     "text": [
      "Clipping input data to the valid range for imshow with RGB data ([0..1] for floats or [0..255] for integers).\n"
     ]
    },
    {
     "data": {
      "text/plain": [
       "<matplotlib.image.AxesImage at 0x1f003c26988>"
      ]
     },
     "execution_count": 123,
     "metadata": {},
     "output_type": "execute_result"
    },
    {
     "data": {
      "image/png": "[encoded data removed]",
      "text/plain": [
       "<Figure size 432x288 with 1 Axes>"
      ]
     },
     "metadata": {
      "needs_background": "light"
     },
     "output_type": "display_data"
    }
   ],
   "source": [
    "import torchvision\n",
    "import matplotlib.pyplot as plt\n",
    "batch_tensor = next(iter(train_loader))[0][0:10]   # (N, C, H, W)\n",
    "\n",
    "# make grid (2 rows and 5 columns) to display our 10 images\n",
    "grid_img = torchvision.utils.make_grid(batch_tensor, nrow=5)\n",
    "\n",
    "# reshape and plot (because MPL needs channel as the last dimension)\n",
    "plt.imshow(grid_img.permute(1, 2, 0))\n"
   ]
  },
  {
   "cell_type": "markdown",
   "metadata": {},
   "source": [
    "## Set Simple Model"
   ]
  },
  {
   "cell_type": "code",
   "execution_count": 5,
   "metadata": {},
   "outputs": [
    {
     "data": {
      "text/plain": [
       "Sequential(\n",
       "  (0): Flatten()\n",
       "  (1): Linear(in_features=784, out_features=10, bias=True)\n",
       "  (2): Softmax(dim=1)\n",
       ")"
      ]
     },
     "execution_count": 5,
     "metadata": {},
     "output_type": "execute_result"
    }
   ],
   "source": [
    "model=nn.Sequential(nn.Flatten(),nn.Linear(28*28,10),nn.Softmax(dim=1))\n",
    "model"
   ]
  },
  {
   "cell_type": "markdown",
   "metadata": {},
   "source": [
    "# Train Model"
   ]
  },
  {
   "cell_type": "code",
   "execution_count": 7,
   "metadata": {},
   "outputs": [
    {
     "name": "stdout",
     "output_type": "stream",
     "text": [
      "Epoch: 0\n",
      "0/469 | Loss: 2.301548480987549\n",
      "200/469 | Loss: 1.5424129962921143\n",
      "400/469 | Loss: 1.5491101741790771\n",
      "Avg Loss: 1.5490523636341096\n",
      "Avg Accuracy: 0.9161\n",
      "Epoch: 1\n",
      "0/469 | Loss: 1.5757266283035278\n",
      "200/469 | Loss: 1.586740493774414\n",
      "400/469 | Loss: 1.5701186656951904\n",
      "Avg Loss: 1.5447520047426224\n",
      "Avg Accuracy: 0.9185\n",
      "Epoch: 2\n",
      "0/469 | Loss: 1.5150330066680908\n",
      "200/469 | Loss: 1.5792585611343384\n",
      "400/469 | Loss: 1.5458050966262817\n",
      "Avg Loss: 1.5424275070428848\n",
      "Avg Accuracy: 0.9183\n",
      "Epoch: 3\n",
      "0/469 | Loss: 1.5515344142913818\n",
      "200/469 | Loss: 1.4764918088912964\n",
      "400/469 | Loss: 1.5258203744888306\n",
      "Avg Loss: 1.5405279666185379\n",
      "Avg Accuracy: 0.9205\n",
      "Epoch: 4\n",
      "0/469 | Loss: 1.5451754331588745\n",
      "200/469 | Loss: 1.5281215906143188\n",
      "400/469 | Loss: 1.5747061967849731\n",
      "Avg Loss: 1.5406770676374435\n",
      "Avg Accuracy: 0.924\n"
     ]
    }
   ],
   "source": [
    "#Train Model\n",
    "\n",
    "device = torch.device(\"cuda\" if torch.cuda.is_available() else \"cpu\")\n",
    "model=model.to(device)\n",
    "log_step=200\n",
    "epochs=5\n",
    "optimizer=optim.Adam(model.parameters(),lr=0.01)\n",
    "crit=nn.CrossEntropyLoss()\n",
    "\n",
    "for epoch in range(epochs):\n",
    "    print(f'Epoch: {epoch}')\n",
    "    avg_valid_loss=0\n",
    "    correct=0\n",
    "    model.train()\n",
    "    for idx,(img,label) in enumerate(train_loader):\n",
    "        optimizer.zero_grad()\n",
    "        img=img.to(device)\n",
    "        label=label.to(device)\n",
    "        out=model(img)\n",
    "        loss=crit(out,label)\n",
    "        loss.backward()\n",
    "        optimizer.step()\n",
    "        if idx%log_step==0:\n",
    "            print(f'{idx}/{len(train_loader)} | Loss: {loss.item()}')\n",
    "    model.eval()  \n",
    "    with torch.no_grad():        \n",
    "        for idx,(img,label) in enumerate(test_loader):\n",
    "            img=img.to(device)\n",
    "            label=label.to(device)\n",
    "            out=model(img)\n",
    "            loss=crit(out,label)\n",
    "            pred = out.argmax(dim=1, keepdim=True)\n",
    "            correct += pred.eq(label.view_as(pred)).sum().item()\n",
    "            avg_valid_loss+=loss.item()\n",
    "    print(f'Avg Loss: {avg_valid_loss/len(test_loader)}')\n",
    "    print(f'Avg Accuracy: {correct/(len(test_loader.dataset))}')\n",
    "               \n",
    "#Save Model\n",
    "model=model.to(\"cpu\")\n",
    "torch.save(model.state_dict(),\"model.ckpt\")"
   ]
  },
  {
   "cell_type": "code",
   "execution_count": 124,
   "metadata": {},
   "outputs": [
    {
     "data": {
      "text/plain": [
       "<All keys matched successfully>"
      ]
     },
     "execution_count": 124,
     "metadata": {},
     "output_type": "execute_result"
    }
   ],
   "source": [
    "model.load_state_dict(torch.load(\"model.ckpt\"))"
   ]
  },
  {
   "cell_type": "markdown",
   "metadata": {},
   "source": [
    "# Find Adversarial Example"
   ]
  },
  {
   "cell_type": "code",
   "execution_count": 126,
   "metadata": {},
   "outputs": [
    {
     "name": "stdout",
     "output_type": "stream",
     "text": [
      "Found error with epsilon:0.01, idx=73\n"
     ]
    }
   ],
   "source": [
    "data.requires_grad = True\n",
    "label=label\n",
    "model.train()\n",
    "pert_list=[]\n",
    "pertubed_img_list=[]\n",
    "for epsilon in [0.01]:\n",
    "    for idx,(data,label) in enumerate(test_loader.dataset):\n",
    "        data.requires_grad = True\n",
    "        out=model(data.unsqueeze(0))\n",
    "        loss = nn.CrossEntropyLoss()(out, torch.tensor(label).unsqueeze(0))\n",
    "        model.zero_grad()\n",
    "        loss.backward()\n",
    "        \n",
    "        initial_pred = out.max(1, keepdim=True)[1].item()\n",
    "        if initial_pred==label:\n",
    "            data_grad = data.grad.data\n",
    "            \n",
    "            # FGSM Method\n",
    "            pert=epsilon*data_grad.sign()\n",
    "            \n",
    "            pertubed_img=data+pert\n",
    "\n",
    "            new_out=model(pertubed_img)\n",
    "            new_pred = new_out.max(1, keepdim=True)[1].item()\n",
    "\n",
    "            if new_pred !=initial_pred:\n",
    "                print(f\"Found error with epsilon:{epsilon}, idx={idx}\")\n",
    "                pert_list.append(pert)\n",
    "                pertubed_img_list.append(pertubed_img)\n",
    "                break\n",
    "    \n",
    "\n",
    "    \n"
   ]
  },
  {
   "cell_type": "markdown",
   "metadata": {},
   "source": [
    "## Visualization"
   ]
  },
  {
   "cell_type": "code",
   "execution_count": 127,
   "metadata": {},
   "outputs": [
    {
     "data": {
      "text/plain": [
       "<matplotlib.image.AxesImage at 0x1f003ce89c8>"
      ]
     },
     "execution_count": 127,
     "metadata": {},
     "output_type": "execute_result"
    },
    {
     "data": {
      "image/png": "[encoded data removed]",
      "text/plain": [
       "<Figure size 720x1080 with 3 Axes>"
      ]
     },
     "metadata": {
      "needs_background": "light"
     },
     "output_type": "display_data"
    }
   ],
   "source": [
    "fig,ax=plt.subplots(ncols=3,figsize=(10,15))\n",
    "\n",
    "ax[0].set_title(f'Out:{initial_pred},\\n conf={out[0][initial_pred]}')\n",
    "ax[0].imshow(transforms.ToPILImage()(data*0.13+0.308),cmap='gray')\n",
    "ax[1].set_title(f'Black:{pert.max()} \\n White:{pert.min()}')\n",
    "\n",
    "ax[1].imshow(transforms.ToPILImage()(pert),cmap='gray')\n",
    "\n",
    "ax[2].set_title(f'Out:{new_pred},\\n conf={new_out[0][new_pred]}')\n",
    "\n",
    "ax[2].imshow(transforms.ToPILImage()(pertubed_img*0.13+0.308),cmap='gray')"
   ]
  }
 ],
 "metadata": {
  "kernelspec": {
   "display_name": "Python 3",
   "language": "python",
   "name": "python3"
  },
  "language_info": {
   "codemirror_mode": {
    "name": "ipython",
    "version": 3
   },
   "file_extension": ".py",
   "mimetype": "text/x-python",
   "name": "python",
   "nbconvert_exporter": "python",
   "pygments_lexer": "ipython3",
   "version": "3.7.9"
  }
 },
 "nbformat": 4,
 "nbformat_minor": 4
}
